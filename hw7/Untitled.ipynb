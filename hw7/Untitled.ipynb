{
 "cells": [
  {
   "cell_type": "markdown",
   "metadata": {},
   "source": [
    "11612126@mail.sustech.edu.cn\n",
    "\n",
    "Keming Li"
   ]
  },
  {
   "cell_type": "markdown",
   "metadata": {},
   "source": [
    "## Problem 1\n",
    "\n",
    "$y=Cx+n$\n",
    "\n",
    "$\\Rightarrow$ $x=C^{-1}y-C^{-1}n$\n",
    "\n",
    "and also because $n$ ~ $Gauss(0, Q)$\n",
    "\n",
    "$\\Rightarrow$ \\begin{cases} \n",
    "\\Sigma_{X|Y}=C^{-1} Q (C^{-1})^T \\\\ \n",
    "\\mu_{X|Y}=C^{-1} y - \\mu_n = C^{-1}y \\\\\n",
    "\\end{cases}  \n"
   ]
  },
  {
   "cell_type": "markdown",
   "metadata": {},
   "source": [
    "## Problem 2\n",
    "\n",
    "\\begin{cases} \n",
    "x(t)=Ax(t-1)+m(t) \\\\ \n",
    "x(t-1) ~ Gauss(\\mu_{t-1}, \\Sigma_{t-1})\\\\\n",
    "m ~ Gauss(0,R)\n",
    "\\end{cases}  \n",
    "\n",
    "$\\Rightarrow$\\begin{cases} \n",
    "\\Sigma_{t}=A\\Sigma_{t-1}A^{T}+\\Sigma_m=A\\Sigma_{t-1}A^T+R\\\\ \n",
    "\\mu_{t}=A\\mu_{t-1}+\\mu_m=A\\mu_{t-1}+0=A\\mu_{t-1} \\end{cases}  \n"
   ]
  },
  {
   "cell_type": "markdown",
   "metadata": {},
   "source": [
    "## Problem 3\n",
    "\n",
    "from problem1, problem2, we get $\\Sigma_{X|Y}, \\mu_{X|Y}, \\Sigma_t, \\mu_t$\n",
    "\n",
    "$\\Sigma^{-1}=\\Sigma_{X|Y}^{-1} + \\Sigma_{t}^{-1}=C^T Q^{-1} C+ \\Sigma_t^{-1}$\n",
    "\n",
    "$\\Sigma^{-1} \\mu = \\Sigma_{X|Y}^{-1} \\mu_{X|Y}+\\Sigma_t^{-1} \\mu_t = C^T Q^{-1} C + \\Sigma_t^{-1} \\mu_t$\n",
    "\n",
    "$\\mu = \\Sigma (C^T Q^{-1} y + \\Sigma_t^{-1} \\mu_t)$\n",
    "\n",
    "without $K(t)$:\n",
    "\n",
    "\\begin{cases} \n",
    "\\Sigma^{-1}=C^T Q^{-1} C+ \\Sigma_t^{-1} \\\\\n",
    "\\mu = \\Sigma (C^T Q^{-1} y + \\Sigma_t^{-1} \\mu_t) \\\\\n",
    "\\end{cases}  \n",
    "\n",
    "with $K(t)$:\n",
    "\\begin{cases} \n",
    "K(t)=\\Sigma_t A^T (A\\Sigma_t A^T + Q)^{-1} \\\\\n",
    "\\mu=\\mu_{t}+K(t)(y-Au_t)\\\\\n",
    "\\Sigma=(I - K(t)A) \\Sigma_t\\\\ \n",
    "\\end{cases}  \n"
   ]
  },
  {
   "cell_type": "code",
   "execution_count": null,
   "metadata": {
    "collapsed": true
   },
   "outputs": [],
   "source": []
  }
 ],
 "metadata": {
  "kernelspec": {
   "display_name": "Python 3",
   "language": "python",
   "name": "python3"
  },
  "language_info": {
   "codemirror_mode": {
    "name": "ipython",
    "version": 3
   },
   "file_extension": ".py",
   "mimetype": "text/x-python",
   "name": "python",
   "nbconvert_exporter": "python",
   "pygments_lexer": "ipython3",
   "version": "3.6.2"
  }
 },
 "nbformat": 4,
 "nbformat_minor": 2
}
